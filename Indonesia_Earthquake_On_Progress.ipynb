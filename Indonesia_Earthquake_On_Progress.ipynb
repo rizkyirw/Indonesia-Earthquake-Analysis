{
 "cells": [
  {
   "cell_type": "code",
   "execution_count": 1,
   "metadata": {
    "id": "FUBV0S_iBJTv"
   },
   "outputs": [],
   "source": [
    "import pandas as pd\n",
    "import seaborn as sns\n",
    "import numpy as py\n",
    "import matplotlib.pyplot as plt"
   ]
  },
  {
   "cell_type": "code",
   "execution_count": 2,
   "metadata": {
    "id": "AHTiUkR7Bkkw"
   },
   "outputs": [
    {
     "data": {
      "text/html": [
       "<div>\n",
       "<style scoped>\n",
       "    .dataframe tbody tr th:only-of-type {\n",
       "        vertical-align: middle;\n",
       "    }\n",
       "\n",
       "    .dataframe tbody tr th {\n",
       "        vertical-align: top;\n",
       "    }\n",
       "\n",
       "    .dataframe thead th {\n",
       "        text-align: right;\n",
       "    }\n",
       "</style>\n",
       "<table border=\"1\" class=\"dataframe\">\n",
       "  <thead>\n",
       "    <tr style=\"text-align: right;\">\n",
       "      <th></th>\n",
       "      <th>date</th>\n",
       "      <th>time</th>\n",
       "      <th>latitude</th>\n",
       "      <th>longitude</th>\n",
       "      <th>depth</th>\n",
       "      <th>magnitude</th>\n",
       "    </tr>\n",
       "  </thead>\n",
       "  <tbody>\n",
       "    <tr>\n",
       "      <th>0</th>\n",
       "      <td>2008-11-01</td>\n",
       "      <td>00:31:25</td>\n",
       "      <td>-0.60</td>\n",
       "      <td>98.89553</td>\n",
       "      <td>20.0</td>\n",
       "      <td>2.99</td>\n",
       "    </tr>\n",
       "    <tr>\n",
       "      <th>1</th>\n",
       "      <td>2008-11-01</td>\n",
       "      <td>01:34:29</td>\n",
       "      <td>-6.61</td>\n",
       "      <td>129.38722</td>\n",
       "      <td>30.1</td>\n",
       "      <td>5.51</td>\n",
       "    </tr>\n",
       "    <tr>\n",
       "      <th>2</th>\n",
       "      <td>2008-11-01</td>\n",
       "      <td>01:38:14</td>\n",
       "      <td>-3.65</td>\n",
       "      <td>127.99068</td>\n",
       "      <td>5.0</td>\n",
       "      <td>3.54</td>\n",
       "    </tr>\n",
       "    <tr>\n",
       "      <th>3</th>\n",
       "      <td>2008-11-01</td>\n",
       "      <td>02:20:05</td>\n",
       "      <td>-4.20</td>\n",
       "      <td>128.09700</td>\n",
       "      <td>5.0</td>\n",
       "      <td>2.42</td>\n",
       "    </tr>\n",
       "    <tr>\n",
       "      <th>4</th>\n",
       "      <td>2008-11-01</td>\n",
       "      <td>02:32:18</td>\n",
       "      <td>-4.09</td>\n",
       "      <td>128.20047</td>\n",
       "      <td>10.0</td>\n",
       "      <td>2.41</td>\n",
       "    </tr>\n",
       "  </tbody>\n",
       "</table>\n",
       "</div>"
      ],
      "text/plain": [
       "         date      time  latitude  longitude  depth  magnitude\n",
       "0  2008-11-01  00:31:25     -0.60   98.89553   20.0       2.99\n",
       "1  2008-11-01  01:34:29     -6.61  129.38722   30.1       5.51\n",
       "2  2008-11-01  01:38:14     -3.65  127.99068    5.0       3.54\n",
       "3  2008-11-01  02:20:05     -4.20  128.09700    5.0       2.42\n",
       "4  2008-11-01  02:32:18     -4.09  128.20047   10.0       2.41"
      ]
     },
     "execution_count": 2,
     "metadata": {},
     "output_type": "execute_result"
    }
   ],
   "source": [
    "df = pd.read_csv('data.csv')\n",
    "df.head()"
   ]
  },
  {
   "cell_type": "code",
   "execution_count": 4,
   "metadata": {},
   "outputs": [
    {
     "data": {
      "text/plain": [
       "(87372, 6)"
      ]
     },
     "execution_count": 4,
     "metadata": {},
     "output_type": "execute_result"
    }
   ],
   "source": [
    "df.shape"
   ]
  },
  {
   "cell_type": "markdown",
   "metadata": {},
   "source": [
    "### Data Exploration"
   ]
  },
  {
   "cell_type": "code",
   "execution_count": 5,
   "metadata": {
    "id": "OXykzwa1Bvwv"
   },
   "outputs": [
    {
     "name": "stdout",
     "output_type": "stream",
     "text": [
      "<class 'pandas.core.frame.DataFrame'>\n",
      "RangeIndex: 87372 entries, 0 to 87371\n",
      "Data columns (total 6 columns):\n",
      " #   Column     Non-Null Count  Dtype  \n",
      "---  ------     --------------  -----  \n",
      " 0   date       87372 non-null  object \n",
      " 1   time       87372 non-null  object \n",
      " 2   latitude   87372 non-null  float64\n",
      " 3   longitude  87372 non-null  float64\n",
      " 4   depth      87372 non-null  float64\n",
      " 5   magnitude  87372 non-null  float64\n",
      "dtypes: float64(4), object(2)\n",
      "memory usage: 4.0+ MB\n"
     ]
    }
   ],
   "source": [
    "df.info()"
   ]
  },
  {
   "cell_type": "code",
   "execution_count": 6,
   "metadata": {},
   "outputs": [
    {
     "data": {
      "text/html": [
       "<div>\n",
       "<style scoped>\n",
       "    .dataframe tbody tr th:only-of-type {\n",
       "        vertical-align: middle;\n",
       "    }\n",
       "\n",
       "    .dataframe tbody tr th {\n",
       "        vertical-align: top;\n",
       "    }\n",
       "\n",
       "    .dataframe thead th {\n",
       "        text-align: right;\n",
       "    }\n",
       "</style>\n",
       "<table border=\"1\" class=\"dataframe\">\n",
       "  <thead>\n",
       "    <tr style=\"text-align: right;\">\n",
       "      <th></th>\n",
       "      <th>latitude</th>\n",
       "      <th>longitude</th>\n",
       "      <th>depth</th>\n",
       "      <th>magnitude</th>\n",
       "    </tr>\n",
       "  </thead>\n",
       "  <tbody>\n",
       "    <tr>\n",
       "      <th>count</th>\n",
       "      <td>87372.000000</td>\n",
       "      <td>87372.000000</td>\n",
       "      <td>87372.000000</td>\n",
       "      <td>87372.000000</td>\n",
       "    </tr>\n",
       "    <tr>\n",
       "      <th>mean</th>\n",
       "      <td>-3.415577</td>\n",
       "      <td>119.213764</td>\n",
       "      <td>48.498258</td>\n",
       "      <td>3.555979</td>\n",
       "    </tr>\n",
       "    <tr>\n",
       "      <th>std</th>\n",
       "      <td>4.342191</td>\n",
       "      <td>10.649071</td>\n",
       "      <td>76.486725</td>\n",
       "      <td>0.794365</td>\n",
       "    </tr>\n",
       "    <tr>\n",
       "      <th>min</th>\n",
       "      <td>-11.000000</td>\n",
       "      <td>95.002390</td>\n",
       "      <td>1.000000</td>\n",
       "      <td>1.000000</td>\n",
       "    </tr>\n",
       "    <tr>\n",
       "      <th>25%</th>\n",
       "      <td>-7.930000</td>\n",
       "      <td>114.007420</td>\n",
       "      <td>10.000000</td>\n",
       "      <td>2.980000</td>\n",
       "    </tr>\n",
       "    <tr>\n",
       "      <th>50%</th>\n",
       "      <td>-2.900000</td>\n",
       "      <td>121.187475</td>\n",
       "      <td>15.400000</td>\n",
       "      <td>3.500000</td>\n",
       "    </tr>\n",
       "    <tr>\n",
       "      <th>75%</th>\n",
       "      <td>0.110000</td>\n",
       "      <td>126.845377</td>\n",
       "      <td>52.200000</td>\n",
       "      <td>4.120000</td>\n",
       "    </tr>\n",
       "    <tr>\n",
       "      <th>max</th>\n",
       "      <td>6.000000</td>\n",
       "      <td>140.981520</td>\n",
       "      <td>750.000000</td>\n",
       "      <td>7.920000</td>\n",
       "    </tr>\n",
       "  </tbody>\n",
       "</table>\n",
       "</div>"
      ],
      "text/plain": [
       "           latitude     longitude         depth     magnitude\n",
       "count  87372.000000  87372.000000  87372.000000  87372.000000\n",
       "mean      -3.415577    119.213764     48.498258      3.555979\n",
       "std        4.342191     10.649071     76.486725      0.794365\n",
       "min      -11.000000     95.002390      1.000000      1.000000\n",
       "25%       -7.930000    114.007420     10.000000      2.980000\n",
       "50%       -2.900000    121.187475     15.400000      3.500000\n",
       "75%        0.110000    126.845377     52.200000      4.120000\n",
       "max        6.000000    140.981520    750.000000      7.920000"
      ]
     },
     "execution_count": 6,
     "metadata": {},
     "output_type": "execute_result"
    }
   ],
   "source": [
    "#Statistical Exploration\n",
    "df.describe()"
   ]
  },
  {
   "cell_type": "code",
   "execution_count": 7,
   "metadata": {},
   "outputs": [
    {
     "data": {
      "text/plain": [
       "date         0\n",
       "time         0\n",
       "latitude     0\n",
       "longitude    0\n",
       "depth        0\n",
       "magnitude    0\n",
       "dtype: int64"
      ]
     },
     "execution_count": 7,
     "metadata": {},
     "output_type": "execute_result"
    }
   ],
   "source": [
    "#Checking Null Values\n",
    "df.isnull().sum()"
   ]
  },
  {
   "cell_type": "markdown",
   "metadata": {},
   "source": [
    "#### Create Earthquake Category"
   ]
  },
  {
   "cell_type": "code",
   "execution_count": 8,
   "metadata": {},
   "outputs": [
    {
     "data": {
      "text/html": [
       "<div>\n",
       "<style scoped>\n",
       "    .dataframe tbody tr th:only-of-type {\n",
       "        vertical-align: middle;\n",
       "    }\n",
       "\n",
       "    .dataframe tbody tr th {\n",
       "        vertical-align: top;\n",
       "    }\n",
       "\n",
       "    .dataframe thead th {\n",
       "        text-align: right;\n",
       "    }\n",
       "</style>\n",
       "<table border=\"1\" class=\"dataframe\">\n",
       "  <thead>\n",
       "    <tr style=\"text-align: right;\">\n",
       "      <th></th>\n",
       "      <th>date</th>\n",
       "      <th>time</th>\n",
       "      <th>latitude</th>\n",
       "      <th>longitude</th>\n",
       "      <th>depth</th>\n",
       "      <th>magnitude</th>\n",
       "      <th>earthquakeCategory</th>\n",
       "    </tr>\n",
       "  </thead>\n",
       "  <tbody>\n",
       "    <tr>\n",
       "      <th>0</th>\n",
       "      <td>2008-11-01</td>\n",
       "      <td>00:31:25</td>\n",
       "      <td>-0.60</td>\n",
       "      <td>98.89553</td>\n",
       "      <td>20.0</td>\n",
       "      <td>2.99</td>\n",
       "      <td>Micro</td>\n",
       "    </tr>\n",
       "    <tr>\n",
       "      <th>1</th>\n",
       "      <td>2008-11-01</td>\n",
       "      <td>01:34:29</td>\n",
       "      <td>-6.61</td>\n",
       "      <td>129.38722</td>\n",
       "      <td>30.1</td>\n",
       "      <td>5.51</td>\n",
       "      <td>Moderate</td>\n",
       "    </tr>\n",
       "    <tr>\n",
       "      <th>2</th>\n",
       "      <td>2008-11-01</td>\n",
       "      <td>01:38:14</td>\n",
       "      <td>-3.65</td>\n",
       "      <td>127.99068</td>\n",
       "      <td>5.0</td>\n",
       "      <td>3.54</td>\n",
       "      <td>Minor</td>\n",
       "    </tr>\n",
       "    <tr>\n",
       "      <th>3</th>\n",
       "      <td>2008-11-01</td>\n",
       "      <td>02:20:05</td>\n",
       "      <td>-4.20</td>\n",
       "      <td>128.09700</td>\n",
       "      <td>5.0</td>\n",
       "      <td>2.42</td>\n",
       "      <td>Micro</td>\n",
       "    </tr>\n",
       "    <tr>\n",
       "      <th>4</th>\n",
       "      <td>2008-11-01</td>\n",
       "      <td>02:32:18</td>\n",
       "      <td>-4.09</td>\n",
       "      <td>128.20047</td>\n",
       "      <td>10.0</td>\n",
       "      <td>2.41</td>\n",
       "      <td>Micro</td>\n",
       "    </tr>\n",
       "  </tbody>\n",
       "</table>\n",
       "</div>"
      ],
      "text/plain": [
       "         date      time  latitude  longitude  depth  magnitude  \\\n",
       "0  2008-11-01  00:31:25     -0.60   98.89553   20.0       2.99   \n",
       "1  2008-11-01  01:34:29     -6.61  129.38722   30.1       5.51   \n",
       "2  2008-11-01  01:38:14     -3.65  127.99068    5.0       3.54   \n",
       "3  2008-11-01  02:20:05     -4.20  128.09700    5.0       2.42   \n",
       "4  2008-11-01  02:32:18     -4.09  128.20047   10.0       2.41   \n",
       "\n",
       "  earthquakeCategory  \n",
       "0              Micro  \n",
       "1           Moderate  \n",
       "2              Minor  \n",
       "3              Micro  \n",
       "4              Micro  "
      ]
     },
     "execution_count": 8,
     "metadata": {},
     "output_type": "execute_result"
    }
   ],
   "source": [
    "tempList = []\n",
    "for i in df['magnitude'].tolist():\n",
    "    tempVar = ''\n",
    "    if (i<3):\n",
    "        tempVar = 'Micro'\n",
    "    elif (i<4):\n",
    "        tempVar = 'Minor'\n",
    "    elif (i<5):\n",
    "        tempVar = 'Light'\n",
    "    elif (i<6):\n",
    "        tempVar = 'Moderate'\n",
    "    elif (i<7):\n",
    "        tempVar = 'Strong'\n",
    "    elif (i<8):\n",
    "        tempVar = 'Major'\n",
    "    else:\n",
    "        tempVar = 'Great'\n",
    "    tempList.append(tempVar)\n",
    "df['earthquakeCategory'] = tempList\n",
    "df.head()"
   ]
  },
  {
   "cell_type": "markdown",
   "metadata": {},
   "source": [
    "#### Create Earthquake Depth"
   ]
  },
  {
   "cell_type": "code",
   "execution_count": 9,
   "metadata": {},
   "outputs": [
    {
     "data": {
      "text/html": [
       "<div>\n",
       "<style scoped>\n",
       "    .dataframe tbody tr th:only-of-type {\n",
       "        vertical-align: middle;\n",
       "    }\n",
       "\n",
       "    .dataframe tbody tr th {\n",
       "        vertical-align: top;\n",
       "    }\n",
       "\n",
       "    .dataframe thead th {\n",
       "        text-align: right;\n",
       "    }\n",
       "</style>\n",
       "<table border=\"1\" class=\"dataframe\">\n",
       "  <thead>\n",
       "    <tr style=\"text-align: right;\">\n",
       "      <th></th>\n",
       "      <th>date</th>\n",
       "      <th>time</th>\n",
       "      <th>latitude</th>\n",
       "      <th>longitude</th>\n",
       "      <th>depth</th>\n",
       "      <th>magnitude</th>\n",
       "      <th>earthquakeCategory</th>\n",
       "      <th>depthCategory</th>\n",
       "    </tr>\n",
       "  </thead>\n",
       "  <tbody>\n",
       "    <tr>\n",
       "      <th>0</th>\n",
       "      <td>2008-11-01</td>\n",
       "      <td>00:31:25</td>\n",
       "      <td>-0.60</td>\n",
       "      <td>98.89553</td>\n",
       "      <td>20.0</td>\n",
       "      <td>2.99</td>\n",
       "      <td>Micro</td>\n",
       "      <td>Shallow</td>\n",
       "    </tr>\n",
       "    <tr>\n",
       "      <th>1</th>\n",
       "      <td>2008-11-01</td>\n",
       "      <td>01:34:29</td>\n",
       "      <td>-6.61</td>\n",
       "      <td>129.38722</td>\n",
       "      <td>30.1</td>\n",
       "      <td>5.51</td>\n",
       "      <td>Moderate</td>\n",
       "      <td>Shallow</td>\n",
       "    </tr>\n",
       "    <tr>\n",
       "      <th>2</th>\n",
       "      <td>2008-11-01</td>\n",
       "      <td>01:38:14</td>\n",
       "      <td>-3.65</td>\n",
       "      <td>127.99068</td>\n",
       "      <td>5.0</td>\n",
       "      <td>3.54</td>\n",
       "      <td>Minor</td>\n",
       "      <td>Shallow</td>\n",
       "    </tr>\n",
       "    <tr>\n",
       "      <th>3</th>\n",
       "      <td>2008-11-01</td>\n",
       "      <td>02:20:05</td>\n",
       "      <td>-4.20</td>\n",
       "      <td>128.09700</td>\n",
       "      <td>5.0</td>\n",
       "      <td>2.42</td>\n",
       "      <td>Micro</td>\n",
       "      <td>Shallow</td>\n",
       "    </tr>\n",
       "    <tr>\n",
       "      <th>4</th>\n",
       "      <td>2008-11-01</td>\n",
       "      <td>02:32:18</td>\n",
       "      <td>-4.09</td>\n",
       "      <td>128.20047</td>\n",
       "      <td>10.0</td>\n",
       "      <td>2.41</td>\n",
       "      <td>Micro</td>\n",
       "      <td>Shallow</td>\n",
       "    </tr>\n",
       "  </tbody>\n",
       "</table>\n",
       "</div>"
      ],
      "text/plain": [
       "         date      time  latitude  longitude  depth  magnitude  \\\n",
       "0  2008-11-01  00:31:25     -0.60   98.89553   20.0       2.99   \n",
       "1  2008-11-01  01:34:29     -6.61  129.38722   30.1       5.51   \n",
       "2  2008-11-01  01:38:14     -3.65  127.99068    5.0       3.54   \n",
       "3  2008-11-01  02:20:05     -4.20  128.09700    5.0       2.42   \n",
       "4  2008-11-01  02:32:18     -4.09  128.20047   10.0       2.41   \n",
       "\n",
       "  earthquakeCategory depthCategory  \n",
       "0              Micro       Shallow  \n",
       "1           Moderate       Shallow  \n",
       "2              Minor       Shallow  \n",
       "3              Micro       Shallow  \n",
       "4              Micro       Shallow  "
      ]
     },
     "execution_count": 9,
     "metadata": {},
     "output_type": "execute_result"
    }
   ],
   "source": [
    "tempList = []\n",
    "for i in df['depth'].tolist():\n",
    "    tempVar = ''\n",
    "    if (i<71):\n",
    "        tempVar = 'Shallow'\n",
    "    elif (i<301):\n",
    "        tempVar = 'Intermediate'\n",
    "    else:\n",
    "        tempVar = 'Deep'\n",
    "    tempList.append(tempVar)\n",
    "df['depthCategory'] = tempList\n",
    "df.head()"
   ]
  }
 ],
 "metadata": {
  "colab": {
   "provenance": []
  },
  "kernelspec": {
   "display_name": "Python 3 (ipykernel)",
   "language": "python",
   "name": "python3"
  },
  "language_info": {
   "codemirror_mode": {
    "name": "ipython",
    "version": 3
   },
   "file_extension": ".py",
   "mimetype": "text/x-python",
   "name": "python",
   "nbconvert_exporter": "python",
   "pygments_lexer": "ipython3",
   "version": "3.9.12"
  }
 },
 "nbformat": 4,
 "nbformat_minor": 1
}
